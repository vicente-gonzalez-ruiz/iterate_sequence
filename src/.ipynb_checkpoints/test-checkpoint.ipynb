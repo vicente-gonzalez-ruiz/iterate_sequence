{
 "cells": [
  {
   "cell_type": "code",
   "execution_count": 1,
   "id": "dd312734-1ce0-4dbd-9628-85af511c05ce",
   "metadata": {},
   "outputs": [],
   "source": [
    "import sequence_iterator"
   ]
  },
  {
   "cell_type": "code",
   "execution_count": 2,
   "id": "6e0dc4c5-cce5-4f20-9a6b-7730a59c8339",
   "metadata": {},
   "outputs": [],
   "source": [
    "try:\n",
    "    import absolute_normalization\n",
    "except:\n",
    "    !pip install \"absolute_normalization @ git+https://github.com/vicente-gonzalez-ruiz/absolute_normalization\"\n",
    "    import absolute_normalization"
   ]
  },
  {
   "cell_type": "code",
   "execution_count": 4,
   "id": "a1877288-df18-4864-b802-a1a32c143116",
   "metadata": {},
   "outputs": [],
   "source": [
    "class NormalizeSequence(sequence_iterator.ImageSequenceIterator):\n",
    "    def process(self, image):\n",
    "        return absolute_normalization.uint8(image, max=255, bit_depth=11)"
   ]
  },
  {
   "cell_type": "code",
   "execution_count": 5,
   "id": "e2e767ca-e978-406e-b25a-685f344e1e0f",
   "metadata": {},
   "outputs": [],
   "source": [
    "!rm -rf /tmp/output\n",
    "!mkdir /tmp/output"
   ]
  },
  {
   "cell_type": "code",
   "execution_count": 6,
   "id": "aae4dc14-4906-41e7-bfa8-75a6f924d483",
   "metadata": {},
   "outputs": [],
   "source": [
    "iterator = NormalizeSequence(\n",
    "    input_sequence_prefix=\"/tmp/input\",\n",
    "    output_sequence_prefix=\"/tmp/output\",\n",
    "    image_extension=\"png\")"
   ]
  },
  {
   "cell_type": "code",
   "execution_count": 7,
   "id": "d4eaeafa-8fc5-4b29-97e5-bf505bde3b5f",
   "metadata": {},
   "outputs": [],
   "source": [
    "iterator.process_sequence()"
   ]
  },
  {
   "cell_type": "code",
   "execution_count": 8,
   "id": "883be23e-1dd0-40ea-86f9-21a2a0fa8cbe",
   "metadata": {},
   "outputs": [
    {
     "name": "stdout",
     "output_type": "stream",
     "text": [
      "1695976689856_thermal_norm.png\t1695976695573_thermal_norm.png\n",
      "1695976690157_thermal_norm.png\t1695976695873_thermal_norm.png\n",
      "1695976690458_thermal_norm.png\t1695976696174_thermal_norm.png\n",
      "1695976691059_thermal_norm.png\t1695976696475_thermal_norm.png\n",
      "1695976691361_thermal_norm.png\t1695976696776_thermal_norm.png\n",
      "1695976691662_thermal_norm.png\t1695976697077_thermal_norm.png\n",
      "1695976691962_thermal_norm.png\t1695976697377_thermal_norm.png\n",
      "1695976692263_thermal_norm.png\t1695976697678_thermal_norm.png\n",
      "1695976693166_thermal_norm.png\t1695976697979_thermal_norm.png\n",
      "1695976693467_thermal_norm.png\t1695976698280_thermal_norm.png\n",
      "1695976693768_thermal_norm.png\t1695976698581_thermal_norm.png\n",
      "1695976694069_thermal_norm.png\t1695976698881_thermal_norm.png\n",
      "1695976694369_thermal_norm.png\t1695976699182_thermal_norm.png\n",
      "1695976694670_thermal_norm.png\t1695976699483_thermal_norm.png\n",
      "1695976694971_thermal_norm.png\t1695976699784_thermal_norm.png\n",
      "1695976695272_thermal_norm.png\t1695976700085_thermal_norm.png\n"
     ]
    }
   ],
   "source": [
    "!ls /tmp/input"
   ]
  },
  {
   "cell_type": "code",
   "execution_count": 9,
   "id": "f31eab88-3c7b-42fb-9682-2dabeaf891b5",
   "metadata": {},
   "outputs": [
    {
     "name": "stdout",
     "output_type": "stream",
     "text": [
      "1695976689856_thermal_norm.png\t1695976695573_thermal_norm.png\n",
      "1695976690157_thermal_norm.png\t1695976695873_thermal_norm.png\n",
      "1695976690458_thermal_norm.png\t1695976696174_thermal_norm.png\n",
      "1695976691059_thermal_norm.png\t1695976696475_thermal_norm.png\n",
      "1695976691361_thermal_norm.png\t1695976696776_thermal_norm.png\n",
      "1695976691662_thermal_norm.png\t1695976697077_thermal_norm.png\n",
      "1695976691962_thermal_norm.png\t1695976697377_thermal_norm.png\n",
      "1695976692263_thermal_norm.png\t1695976697678_thermal_norm.png\n",
      "1695976693166_thermal_norm.png\t1695976697979_thermal_norm.png\n",
      "1695976693467_thermal_norm.png\t1695976698280_thermal_norm.png\n",
      "1695976693768_thermal_norm.png\t1695976698581_thermal_norm.png\n",
      "1695976694069_thermal_norm.png\t1695976698881_thermal_norm.png\n",
      "1695976694369_thermal_norm.png\t1695976699182_thermal_norm.png\n",
      "1695976694670_thermal_norm.png\t1695976699483_thermal_norm.png\n",
      "1695976694971_thermal_norm.png\t1695976699784_thermal_norm.png\n",
      "1695976695272_thermal_norm.png\t1695976700085_thermal_norm.png\n"
     ]
    }
   ],
   "source": [
    "!ls /tmp/output"
   ]
  },
  {
   "cell_type": "code",
   "execution_count": null,
   "id": "2f392d6e-6220-4e65-8fa5-095063ee565a",
   "metadata": {},
   "outputs": [],
   "source": []
  }
 ],
 "metadata": {
  "kernelspec": {
   "display_name": "Python 3 (ipykernel)",
   "language": "python",
   "name": "python3"
  },
  "language_info": {
   "codemirror_mode": {
    "name": "ipython",
    "version": 3
   },
   "file_extension": ".py",
   "mimetype": "text/x-python",
   "name": "python",
   "nbconvert_exporter": "python",
   "pygments_lexer": "ipython3",
   "version": "3.10.12"
  }
 },
 "nbformat": 4,
 "nbformat_minor": 5
}
